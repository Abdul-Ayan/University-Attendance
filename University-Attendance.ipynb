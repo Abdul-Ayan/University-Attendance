{
 "cells": [
  {
   "cell_type": "code",
   "execution_count": null,
   "id": "5ee2060f-7982-44e8-b9c4-ef5666134d83",
   "metadata": {},
   "outputs": [
    {
     "name": "stdout",
     "output_type": "stream",
     "text": [
      "\n",
      "Select an option:\n",
      "1. Mark Attendance\n",
      "2. View Attendance\n",
      "3. Quit\n"
     ]
    },
    {
     "name": "stdin",
     "output_type": "stream",
     "text": [
      ">  2\n",
      "Enter student ID:  001\n"
     ]
    },
    {
     "name": "stdout",
     "output_type": "stream",
     "text": [
      "Attendance for student Alice:\n",
      "\n",
      "Select an option:\n",
      "1. Mark Attendance\n",
      "2. View Attendance\n",
      "3. Quit\n"
     ]
    }
   ],
   "source": [
    "class Student:\n",
    "    def __init__(self, student_id, name):\n",
    "        self.student_id = student_id\n",
    "        self.name = name\n",
    "        self.attendance = {}\n",
    "\n",
    "    def mark_attendance(self, date):\n",
    "        self.attendance[date] = True\n",
    "\n",
    "class AttendanceSystem:\n",
    "    def __init__(self):\n",
    "        self.students = {}\n",
    "\n",
    "    def add_student(self, student):\n",
    "        self.students[student.student_id] = student\n",
    "\n",
    "    def mark_attendance(self, student_id, date):\n",
    "        if student_id in self.students:\n",
    "            self.students[student_id].mark_attendance(date)\n",
    "            print(f\"Attendance marked for student {student_id} on {date}\")\n",
    "        else:\n",
    "            print(\"Student not found.\")\n",
    "\n",
    "    def view_attendance(self, student_id):\n",
    "        if student_id in self.students:\n",
    "            student = self.students[student_id]\n",
    "            print(f\"Attendance for student {student.name}:\")\n",
    "            for date, present in student.attendance.items():\n",
    "                print(f\"{date}: {'Present' if present else 'Absent'}\")\n",
    "        else:\n",
    "            print(\"Student not found.\")\n",
    "\n",
    "def main():\n",
    "    attendance_system = AttendanceSystem()\n",
    "\n",
    "    # Add some sample students\n",
    "    student1 = Student(\"001\", \"Alice\")\n",
    "    student2 = Student(\"002\", \"Bob\")\n",
    "    attendance_system.add_student(student1)\n",
    "    attendance_system.add_student(student2)\n",
    "\n",
    "    while True:\n",
    "        print(\"\\nSelect an option:\")\n",
    "        print(\"1. Mark Attendance\")\n",
    "        print(\"2. View Attendance\")\n",
    "        print(\"3. Quit\")\n",
    "\n",
    "        choice = input(\"> \")\n",
    "\n",
    "        if choice == \"1\":\n",
    "            student_id = input(\"Enter student ID: \")\n",
    "            date = input(\"Enter date (YYYY-MM-DD): \")\n",
    "            attendance_system.mark_attendance(student_id, date)\n",
    "        elif choice == \"2\":\n",
    "            student_id = input(\"Enter student ID: \")\n",
    "            attendance_system.view_attendance(student_id)\n",
    "        elif choice == \"3\":\n",
    "            print(\"Exiting...\")\n",
    "            break\n",
    "        else:\n",
    "            print(\"Invalid choice. Please enter a number between 1 and 3.\")\n",
    "\n",
    "if __name__ == \"__main__\":\n",
    "    main()\n"
   ]
  },
  {
   "cell_type": "code",
   "execution_count": null,
   "id": "f362d733-c446-491a-ba97-7033153d1555",
   "metadata": {},
   "outputs": [],
   "source": []
  }
 ],
 "metadata": {
  "kernelspec": {
   "display_name": "Python 3 (ipykernel)",
   "language": "python",
   "name": "python3"
  },
  "language_info": {
   "codemirror_mode": {
    "name": "ipython",
    "version": 3
   },
   "file_extension": ".py",
   "mimetype": "text/x-python",
   "name": "python",
   "nbconvert_exporter": "python",
   "pygments_lexer": "ipython3",
   "version": "3.12.3"
  }
 },
 "nbformat": 4,
 "nbformat_minor": 5
}
